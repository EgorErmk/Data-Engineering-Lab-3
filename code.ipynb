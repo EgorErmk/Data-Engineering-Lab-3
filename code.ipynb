{
 "cells": [
  {
   "cell_type": "code",
   "execution_count": 5,
   "metadata": {},
   "outputs": [],
   "source": [
    "import yaml\n",
    "config = yaml.load(open('./config.yml','r'),yaml.Loader)"
   ]
  },
  {
   "cell_type": "code",
   "execution_count": 6,
   "metadata": {},
   "outputs": [
    {
     "data": {
      "text/plain": [
       "{'model_1': {'module': 'sklearn.neural_network',\n",
       "  'classificator': 'MLPRegressor',\n",
       "  'kwargs': {'hidden_layer_sizes': [20, 100, 20],\n",
       "   'activation': 'relu',\n",
       "   'solver': 'adam',\n",
       "   'learning_rate_init': 0.001}},\n",
       " 'model_2': {'module': 'sklearn.ensemble',\n",
       "  'classificator': 'RandomForestRegressor',\n",
       "  'kwargs': {'n_estimators': 80,\n",
       "   'max_depth': 5,\n",
       "   'criterion': 'squared_error'}},\n",
       " 'model_3': {'module': 'sklearn.neighbors',\n",
       "  'classificator': 'KNeighborsRegressor',\n",
       "  'kwargs': {'n_neighbors': 1, 'weights': 'uniform', 'algorithm': 'auto'}},\n",
       " 'model_4': {'module': 'sklearn.svm',\n",
       "  'classificator': 'SVR',\n",
       "  'kwargs': {'kernel': 'linear', 'C': 0.1, 'tol': 0.001}},\n",
       " 'model_5': {'module': 'sklearn.linear_model',\n",
       "  'classificator': 'LinearRegression',\n",
       "  'kwargs': {'positive': True, 'copy_X': True}}}"
      ]
     },
     "execution_count": 6,
     "metadata": {},
     "output_type": "execute_result"
    }
   ],
   "source": [
    "config"
   ]
  },
  {
   "cell_type": "code",
   "execution_count": 6,
   "metadata": {},
   "outputs": [
    {
     "name": "stderr",
     "output_type": "stream",
     "text": [
      "2023/11/22 16:58:26 INFO mlflow.tracking.fluent: Autologging successfully enabled for sklearn.\n",
      "2023/11/22 16:58:26 INFO mlflow.utils.autologging_utils: Created MLflow autologging run with ID 'c887fad4021943849d058fc83ffec06b', which will track hyperparameters, performance metrics, model artifacts, and lineage information for the current sklearn workflow\n",
      "c:\\Users\\ralph\\AppData\\Local\\Programs\\Python\\Python310\\lib\\site-packages\\sklearn\\neural_network\\_multilayer_perceptron.py:702: ConvergenceWarning: Stochastic Optimizer: Maximum iterations (200) reached and the optimization hasn't converged yet.\n",
      "  warnings.warn(\n",
      "2023/11/22 16:58:26 WARNING mlflow.utils.autologging_utils: Encountered unexpected error during sklearn autologging: Failed to upload C:\\Users\\ralph\\AppData\\Local\\Temp\\tmp3930rjx4\\estimator.html to mlflow/1/c887fad4021943849d058fc83ffec06b/artifacts/estimator.html: An error occurred (InvalidArgument) when calling the PutObject operation: S3 API Requests must be made to API port.\n"
     ]
    }
   ],
   "source": [
    "import os\n",
    "\n",
    "os.environ[\"AWS_ACCESS_KEY_ID\"] = \"minio\"\n",
    "os.environ[\"AWS_SECRET_ACCESS_KEY\"] = \"minio123\"\n",
    "os.environ[\"MLFLOW_S3_ENDPOINT_URL\"] = \"http://minio:9000\"\n",
    "\n",
    "from sklearn.datasets import make_regression\n",
    "from sklearn.metrics import mean_squared_error\n",
    "from sklearn.model_selection import train_test_split\n",
    "\n",
    "import mlflow\n",
    "import mlflow.sklearn\n",
    "from mlflow.models import infer_signature\n",
    "\n",
    "import yaml\n",
    "from importlib import import_module\n",
    "\n",
    "config = yaml.load(open('./config.yml','r'),yaml.Loader)\n",
    "\n",
    "mlflow.set_tracking_uri('http://localhost:5001')\n",
    "mlflow.set_experiment(experiment_id=\"1\")\n",
    "mlflow.autolog(extra_tags={'metrics': 'mean_squared_error'})\n",
    "# with mlflow.start_run() as run:\n",
    "X, y = make_regression(n_features=4, n_informative=2, random_state=0, shuffle=False)\n",
    "X_train, X_test, y_train, y_test = train_test_split(\n",
    "    X, y, test_size=0.2, random_state=42\n",
    ")\n",
    "clf = getattr(import_module(config['module']), config['classificator'])\n",
    "model = clf(**config['kwargs'])\n",
    "model.fit(X_train, y_train)\n",
    "\n",
    "# Infer the model signature\n",
    "y_pred = model.predict(X_test)\n",
    "signature = infer_signature(X_test, y_pred)\n",
    "\n",
    "    # # Log parameters and metrics using the MLflow APIs\n",
    "    # mlflow.log_params(config['kwargs'])\n",
    "# mlflow.log_metrics({\"mse\": mean_squared_error(y_test, y_pred)})\n",
    "\n",
    "    # # Log the sklearn model and register as version 1\n",
    "    # mlflow.sklearn.log_model(\n",
    "    #     sk_model=model,\n",
    "    #     artifact_path=config['module']+'.'+config['classificator'],\n",
    "    #     signature=signature,\n",
    "    #     registered_model_name=config['classificator'],\n",
    "    # )"
   ]
  },
  {
   "cell_type": "code",
   "execution_count": 22,
   "metadata": {},
   "outputs": [
    {
     "data": {
      "text/plain": [
       "1"
      ]
     },
     "execution_count": 22,
     "metadata": {},
     "output_type": "execute_result"
    }
   ],
   "source": [
    "scores = { 'num6': (0,1), 'num3': (2,1), 'num2': (3,1), 'num4': (4,1), 'num1': (1,1), 'num5': (6,1)}\n",
    "scores[next(iter(dict(sorted(scores.items(), key=lambda item: item[1]))))][1]"
   ]
  }
 ],
 "metadata": {
  "kernelspec": {
   "display_name": "Python 3",
   "language": "python",
   "name": "python3"
  },
  "language_info": {
   "codemirror_mode": {
    "name": "ipython",
    "version": 3
   },
   "file_extension": ".py",
   "mimetype": "text/x-python",
   "name": "python",
   "nbconvert_exporter": "python",
   "pygments_lexer": "ipython3",
   "version": "3.10.7"
  }
 },
 "nbformat": 4,
 "nbformat_minor": 2
}
